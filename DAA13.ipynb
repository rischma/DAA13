{
  "nbformat": 4,
  "nbformat_minor": 0,
  "metadata": {
    "colab": {
      "name": "DAA13.ipynb",
      "provenance": [],
      "collapsed_sections": []
    },
    "kernelspec": {
      "name": "python3",
      "display_name": "Python 3"
    },
    "language_info": {
      "name": "python"
    }
  },
  "cells": [
    {
      "cell_type": "code",
      "metadata": {
        "id": "YbHp3N0_9lpC"
      },
      "source": [
        "def bfs(graph, start):\n",
        "    visited = []\n",
        "    queue = [start]\n",
        "\n",
        "    while queue:\n",
        "        node = queue.pop(0)\n",
        "        if node not in visited:\n",
        "            visited.append(node)\n",
        "            neighbours = graph[node]\n",
        "            for neighbour in neighbours:\n",
        "                queue.append(neighbour)\n",
        "    return visited"
      ],
      "execution_count": 19,
      "outputs": []
    },
    {
      "cell_type": "code",
      "metadata": {
        "id": "w-XsKeJj_pPA"
      },
      "source": [
        "graph={ 'Amin' : {'Wasim', 'Nick', 'Mike'},\n",
        "         'Wasim' : {'Imran', 'Amin'},\n",
        "         'Imran' : {'Wasim', 'Faras'},\n",
        "         'Faras' : {'Imran'},\n",
        "         'Mike' : {'Amin'},\n",
        "         'Nick' : {'Amin'}}"
      ],
      "execution_count": 20,
      "outputs": []
    },
    {
      "cell_type": "code",
      "metadata": {
        "colab": {
          "base_uri": "https://localhost:8080/"
        },
        "id": "-sS97kfHBR2C",
        "outputId": "586efd99-8e4e-4da2-9739-8c3fd0e8e874"
      },
      "source": [
        "bfs(graph,'Amin')"
      ],
      "execution_count": 21,
      "outputs": [
        {
          "output_type": "execute_result",
          "data": {
            "text/plain": [
              "['Amin', 'Mike', 'Nick', 'Wasim', 'Imran', 'Faras']"
            ]
          },
          "metadata": {},
          "execution_count": 21
        }
      ]
    },
    {
      "cell_type": "code",
      "metadata": {
        "colab": {
          "base_uri": "https://localhost:8080/"
        },
        "id": "M8k6DvToEym4",
        "outputId": "0ebf97bd-f4fa-4f47-e772-d17957ccdf1b"
      },
      "source": [
        "# O amin --------------\n",
        "# |          |         |\n",
        "# O wasim    O nick    O mike\n",
        "# |\n",
        "# O imran\n",
        "# |\n",
        "# O faras\n",
        "\n",
        "bfs(graph, 'Amin')"
      ],
      "execution_count": 22,
      "outputs": [
        {
          "output_type": "execute_result",
          "data": {
            "text/plain": [
              "['Amin', 'Mike', 'Nick', 'Wasim', 'Imran', 'Faras']"
            ]
          },
          "metadata": {},
          "execution_count": 22
        }
      ]
    },
    {
      "cell_type": "code",
      "metadata": {
        "colab": {
          "base_uri": "https://localhost:8080/"
        },
        "id": "0t1lFdRlE2EP",
        "outputId": "909e0420-93c1-4e6f-8015-2043a3b441d6"
      },
      "source": [
        "# O wasim ----\n",
        "# |          |\n",
        "# O imran    O amin ----\n",
        "# |          |         |\n",
        "# O faras    O nick    O mike\n",
        "\n",
        "\n",
        "bfs(graph, 'Wasim')"
      ],
      "execution_count": 23,
      "outputs": [
        {
          "output_type": "execute_result",
          "data": {
            "text/plain": [
              "['Wasim', 'Imran', 'Amin', 'Faras', 'Mike', 'Nick']"
            ]
          },
          "metadata": {},
          "execution_count": 23
        }
      ]
    },
    {
      "cell_type": "code",
      "metadata": {
        "colab": {
          "base_uri": "https://localhost:8080/"
        },
        "id": "6iaIY-enFPb3",
        "outputId": "b32e5ffa-aa33-482a-cc2d-30e651cbfa81"
      },
      "source": [
        "# O faras\n",
        "# |\n",
        "# O imran\n",
        "# |\n",
        "# O wasim  O nick  O mike\n",
        "# |        |       |\n",
        "# O amin ----------\n",
        "\n",
        "bfs(graph, 'Faras')"
      ],
      "execution_count": 24,
      "outputs": [
        {
          "output_type": "execute_result",
          "data": {
            "text/plain": [
              "['Faras', 'Imran', 'Wasim', 'Amin', 'Mike', 'Nick']"
            ]
          },
          "metadata": {},
          "execution_count": 24
        }
      ]
    },
    {
      "cell_type": "code",
      "metadata": {
        "colab": {
          "base_uri": "https://localhost:8080/"
        },
        "id": "8abGDMYNIL1l",
        "outputId": "1c3b7b78-fd57-4c2e-f8c8-7ebc5a3c06d2"
      },
      "source": [
        "def bfs(graph, start):\n",
        "    visited = []\n",
        "    queue = [start]\n",
        "\n",
        "    while queue:\n",
        "        node = queue.pop(0)\n",
        "        if node not in visited:\n",
        "            visited.append(node)\n",
        "            neighbours = graph[node]\n",
        "            for neighbour in neighbours:\n",
        "                queue.append(neighbour)\n",
        "    return visited\n",
        "\n",
        "graph={ 'Rektor' : {'Warek1', 'Warek2'},\n",
        "         'Warek1' : {'Rektor'},\n",
        "         'Warek2' : {'Rektor', 'Kaprodi1', 'Kaprodi2', 'Kaprodi3'},\n",
        "         'Kaprodi1' : {'Warek2', 'DosenA', 'DosenB', 'DosenC'},\n",
        "         'Kaprodi2' : {'Warek2', 'DosenD', 'DosenE'},\n",
        "         'Kaprodi3' : {'Warek2', 'DosenF', 'DosenG'},\n",
        "         'DosenA' : {'Kaprodi1'},\n",
        "         'DosenB' : {'Kaprodi1'},\n",
        "         'DosenC' : {'Kaprodi1'},\n",
        "         'DosenD' : {'Kaprodi2'},\n",
        "         'DosenE' : {'Kaprodi2'},\n",
        "         'DosenF' : {'Kaprodi3'},\n",
        "         'DosenG' : {'Kaprodi3'}}\n",
        "\n",
        "bfs(graph,'Rektor')"
      ],
      "execution_count": 34,
      "outputs": [
        {
          "output_type": "execute_result",
          "data": {
            "text/plain": [
              "['Rektor',\n",
              " 'Warek2',\n",
              " 'Warek1',\n",
              " 'Kaprodi3',\n",
              " 'Kaprodi2',\n",
              " 'Kaprodi1',\n",
              " 'DosenF',\n",
              " 'DosenG',\n",
              " 'DosenD',\n",
              " 'DosenE',\n",
              " 'DosenC',\n",
              " 'DosenA',\n",
              " 'DosenB']"
            ]
          },
          "metadata": {},
          "execution_count": 34
        }
      ]
    },
    {
      "cell_type": "code",
      "metadata": {
        "id": "znrdDDN6TM0f"
      },
      "source": [
        "def dfs(graph, start, visited=None):\n",
        "    if visited is None :\n",
        "        visited = set()\n",
        "    visited.add(start)\n",
        "    print(start)\n",
        "    for next in graph[start] - visited:\n",
        "        dfs(graph, next, visited)\n",
        "    return visited "
      ],
      "execution_count": 35,
      "outputs": []
    },
    {
      "cell_type": "code",
      "metadata": {
        "colab": {
          "base_uri": "https://localhost:8080/"
        },
        "id": "OF_fWveOUckz",
        "outputId": "78ca3da1-4362-4a5b-e3fc-1ef19d04287d"
      },
      "source": [
        "graph={ 'Amin' : {'Wasim', 'Nick', 'Mike'},\n",
        "         'Wasim' : {'Imran', 'Amin'},\n",
        "         'Imran' : {'Wasim', 'Faras'},\n",
        "         'Faras' : {'Imran'},\n",
        "         'Mike' : {'Amin'},\n",
        "         'Nick' : {'Amin'}}\n",
        "\n",
        "bfs(graph,'Amin')"
      ],
      "execution_count": 37,
      "outputs": [
        {
          "output_type": "execute_result",
          "data": {
            "text/plain": [
              "['Amin', 'Mike', 'Nick', 'Wasim', 'Imran', 'Faras']"
            ]
          },
          "metadata": {},
          "execution_count": 37
        }
      ]
    },
    {
      "cell_type": "code",
      "metadata": {
        "colab": {
          "base_uri": "https://localhost:8080/"
        },
        "id": "0P0j8aYYVtCY",
        "outputId": "0eee0b3c-820c-4718-d468-8fc6556048f3"
      },
      "source": [
        "# O amin --------------\n",
        "# |          |         |\n",
        "# O wasim    O nick    O mike\n",
        "# |\n",
        "# O imran\n",
        "# |\n",
        "# O faras\n",
        "#\n",
        "# turun dari amin ke faras, geser ke nick & mike\n",
        "\n",
        "dfs(graph, 'Amin')"
      ],
      "execution_count": 41,
      "outputs": [
        {
          "output_type": "stream",
          "name": "stdout",
          "text": [
            "Amin\n",
            "Mike\n",
            "Nick\n",
            "Wasim\n",
            "Imran\n",
            "Faras\n"
          ]
        },
        {
          "output_type": "execute_result",
          "data": {
            "text/plain": [
              "{'Amin', 'Faras', 'Imran', 'Mike', 'Nick', 'Wasim'}"
            ]
          },
          "metadata": {},
          "execution_count": 41
        }
      ]
    },
    {
      "cell_type": "code",
      "metadata": {
        "colab": {
          "base_uri": "https://localhost:8080/"
        },
        "id": "sYkLHYi5XfkH",
        "outputId": "28319403-bab6-4714-a46e-3c1e18315925"
      },
      "source": [
        "# O amin --------------\n",
        "# |          |         |\n",
        "# O wasim    O nick    O mike\n",
        "# |\n",
        "# O imran\n",
        "# |\n",
        "# O faras\n",
        "#\n",
        "# turun dari wasim ke faras, naik ke amin, geser ke nick & mike\n",
        "\n",
        "dfs(graph, 'Wasim')"
      ],
      "execution_count": 44,
      "outputs": [
        {
          "output_type": "stream",
          "name": "stdout",
          "text": [
            "Wasim\n",
            "Imran\n",
            "Faras\n",
            "Amin\n",
            "Mike\n",
            "Nick\n"
          ]
        },
        {
          "output_type": "execute_result",
          "data": {
            "text/plain": [
              "{'Amin', 'Faras', 'Imran', 'Mike', 'Nick', 'Wasim'}"
            ]
          },
          "metadata": {},
          "execution_count": 44
        }
      ]
    },
    {
      "cell_type": "code",
      "metadata": {
        "colab": {
          "base_uri": "https://localhost:8080/"
        },
        "id": "q2J3Rw4MXstM",
        "outputId": "1595c288-94c8-4ae9-ebc7-8a86afeb93e3"
      },
      "source": [
        "# O amin --------------\n",
        "# |          |         |\n",
        "# O wasim    O nick    O mike\n",
        "# |\n",
        "# O imran\n",
        "# |\n",
        "# O faras\n",
        "#\n",
        "# naik dari faras ke amin, geser ke nick & mike\n",
        "\n",
        "dfs(graph, 'Faras')"
      ],
      "execution_count": 46,
      "outputs": [
        {
          "output_type": "stream",
          "name": "stdout",
          "text": [
            "Faras\n",
            "Imran\n",
            "Wasim\n",
            "Amin\n",
            "Mike\n",
            "Nick\n"
          ]
        },
        {
          "output_type": "execute_result",
          "data": {
            "text/plain": [
              "{'Amin', 'Faras', 'Imran', 'Mike', 'Nick', 'Wasim'}"
            ]
          },
          "metadata": {},
          "execution_count": 46
        }
      ]
    },
    {
      "cell_type": "code",
      "metadata": {
        "colab": {
          "base_uri": "https://localhost:8080/"
        },
        "id": "WRfZcjgxX7lY",
        "outputId": "606e2f2a-2072-4ef8-e0e4-ad1eb91139ee"
      },
      "source": [
        "# O amin --------------\n",
        "# |          |         |\n",
        "# O wasim    O nick    O mike\n",
        "# |\n",
        "# O imran\n",
        "# |\n",
        "# O faras\n",
        "#\n",
        "# naik nick ke amin, turun ke faras, geser ke mike\n",
        "\n",
        "dfs(graph, 'Nick')"
      ],
      "execution_count": 47,
      "outputs": [
        {
          "output_type": "stream",
          "name": "stdout",
          "text": [
            "Nick\n",
            "Amin\n",
            "Mike\n",
            "Wasim\n",
            "Imran\n",
            "Faras\n"
          ]
        },
        {
          "output_type": "execute_result",
          "data": {
            "text/plain": [
              "{'Amin', 'Faras', 'Imran', 'Mike', 'Nick', 'Wasim'}"
            ]
          },
          "metadata": {},
          "execution_count": 47
        }
      ]
    }
  ]
}